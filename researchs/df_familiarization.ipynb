{
 "cells": [
  {
   "cell_type": "code",
   "execution_count": 1,
   "metadata": {},
   "outputs": [
    {
     "ename": "NameError",
     "evalue": "name 'olib' is not defined",
     "output_type": "error",
     "traceback": [
      "\u001b[0;31m---------------------------------------------------------------------------\u001b[0m",
      "\u001b[0;31mNameError\u001b[0m                                 Traceback (most recent call last)",
      "\u001b[0;32m<ipython-input-1-b4db69c10d74>\u001b[0m in \u001b[0;36m<module>\u001b[0;34m()\u001b[0m\n\u001b[0;32m----> 1\u001b[0;31m \u001b[0molib\u001b[0m\u001b[0;34m.\u001b[0m\u001b[0mdata\u001b[0m\u001b[0;34m[\u001b[0m\u001b[0;34m:\u001b[0m\u001b[0;36m5\u001b[0m\u001b[0;34m]\u001b[0m\u001b[0;34m\u001b[0m\u001b[0m\n\u001b[0m",
      "\u001b[0;31mNameError\u001b[0m: name 'olib' is not defined"
     ]
    }
   ],
   "source": [
    "olib.data[:5]"
   ]
  },
  {
   "cell_type": "code",
   "execution_count": 21,
   "metadata": {},
   "outputs": [
    {
     "name": "stderr",
     "output_type": "stream",
     "text": [
      "/Users/hanxiao/Research/core/lib/Black_Scholes.py:51: RuntimeWarning: invalid value encountered in sqrt\n",
      "  if (self.sigma * np.sqrt(self.T) == 0):\n",
      "/Users/hanxiao/Research/core/lib/Black_Scholes.py:53: RuntimeWarning: invalid value encountered in sqrt\n",
      "  else: return (np.log(self.s / self.k) + (self.r - self.q + (self.sigma ** 2) * 0.5) * self.T) / float(self.sigma * np.sqrt(self.T))\n",
      "/Users/hanxiao/Research/core/lib/Black_Scholes.py:58: RuntimeWarning: invalid value encountered in sqrt\n",
      "  return self.d1 - (self.sigma * np.sqrt(self.T))\n",
      "/Users/hanxiao/Research/core/lib/Black_Scholes.py:173: RuntimeWarning: invalid value encountered in sqrt\n",
      "  return dn1 * np.exp(-self.q * self.T) / (self.s * self.sigma * np.sqrt(self.T))\n",
      "/Users/hanxiao/Research/core/lib/Black_Scholes.py:190: RuntimeWarning: invalid value encountered in sqrt\n",
      "  + self.r * self.k * np.exp(-self.r * self.T) * self.n(-d2)\n",
      "/Users/hanxiao/Research/core/lib/Black_Scholes.py:196: RuntimeWarning: invalid value encountered in sqrt\n",
      "  return self.s * np.sqrt(self.T) * dn1 * np.exp(-self.q * self.T)\n",
      "/Users/hanxiao/Research/core/lib/Black_Scholes.py:183: RuntimeWarning: invalid value encountered in sqrt\n",
      "  - self.r * self.k * np.exp(-self.r * self.T) * self.n(d2)\n"
     ]
    },
    {
     "name": "stdout",
     "output_type": "stream",
     "text": [
      "\n",
      "Data Building for UCO :: [ COMPLETE ]\n",
      "\n"
     ]
    }
   ],
   "source": [
    "olib.symbol='UCO'"
   ]
  },
  {
   "cell_type": "code",
   "execution_count": null,
   "metadata": {
    "collapsed": true
   },
   "outputs": [],
   "source": []
  }
 ],
 "metadata": {
  "kernelspec": {
   "display_name": "Python 3",
   "language": "python",
   "name": "python3"
  },
  "language_info": {
   "codemirror_mode": {
    "name": "ipython",
    "version": 3
   },
   "file_extension": ".py",
   "mimetype": "text/x-python",
   "name": "python",
   "nbconvert_exporter": "python",
   "pygments_lexer": "ipython3",
   "version": "3.5.4"
  }
 },
 "nbformat": 4,
 "nbformat_minor": 2
}
